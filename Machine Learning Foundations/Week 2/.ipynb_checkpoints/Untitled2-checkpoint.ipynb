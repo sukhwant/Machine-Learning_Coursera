{
 "cells": [
  {
   "cell_type": "code",
   "execution_count": 18,
   "metadata": {
    "collapsed": true
   },
   "outputs": [],
   "source": [
    "import pandas as pd\n",
    "import seaborn as sns\n",
    "import matplotlib as mpl\n",
    "import matplotlib.pyplot as plt\n",
    "%matplotlib inline"
   ]
  },
  {
   "cell_type": "code",
   "execution_count": 23,
   "metadata": {},
   "outputs": [],
   "source": [
    "data = pd.read_csv(\"/Users/sukhwanp/Desktop/mturk_Review/hit_detail_3GDF5H3EXKXTKWJCU4G88D05Y0852S\", sep='\\t')"
   ]
  },
  {
   "cell_type": "code",
   "execution_count": 24,
   "metadata": {},
   "outputs": [
    {
     "data": {
      "text/html": [
       "<div>\n",
       "<style>\n",
       "    .dataframe thead tr:only-child th {\n",
       "        text-align: right;\n",
       "    }\n",
       "\n",
       "    .dataframe thead th {\n",
       "        text-align: left;\n",
       "    }\n",
       "\n",
       "    .dataframe tbody tr th {\n",
       "        vertical-align: top;\n",
       "    }\n",
       "</style>\n",
       "<table border=\"1\" class=\"dataframe\">\n",
       "  <thead>\n",
       "    <tr style=\"text-align: right;\">\n",
       "      <th></th>\n",
       "      <th>HitId</th>\n",
       "      <th>Annotation</th>\n",
       "      <th>HItTypeID</th>\n",
       "      <th>CreationDate</th>\n",
       "    </tr>\n",
       "  </thead>\n",
       "  <tbody>\n",
       "    <tr>\n",
       "      <th>0</th>\n",
       "      <td>3CO05SML7VER3I5EJWKG7AJUP9ZR0Z</td>\n",
       "      <td>101_421_ITEM_NAME_MODEL_NUMBER_MISMATCH_2018-0...</td>\n",
       "      <td>3GDF5H3EXKXTKWJCU4G88D05Y0852S</td>\n",
       "      <td>2018-01-30 16:14:58+05:30</td>\n",
       "    </tr>\n",
       "    <tr>\n",
       "      <th>1</th>\n",
       "      <td>3T5ZXGO9DEXOT2W4AB888JCBBUGQZP</td>\n",
       "      <td>101_421_ITEM_NAME_MODEL_NUMBER_MISMATCH_2018-0...</td>\n",
       "      <td>3GDF5H3EXKXTKWJCU4G88D05Y0852S</td>\n",
       "      <td>2018-01-30 16:14:58+05:30</td>\n",
       "    </tr>\n",
       "    <tr>\n",
       "      <th>2</th>\n",
       "      <td>3O4VWC1GEWF6MMLYUETQ7HVAI4PJ3U</td>\n",
       "      <td>101_60_ITEM_NAME_MODEL_NUMBER_MISMATCH_2018-01...</td>\n",
       "      <td>3GDF5H3EXKXTKWJCU4G88D05Y0852S</td>\n",
       "      <td>2018-01-30 16:14:58+05:30</td>\n",
       "    </tr>\n",
       "    <tr>\n",
       "      <th>3</th>\n",
       "      <td>3HXK2V1N4KO7A2ZEI8UIRUY2KY8G2C</td>\n",
       "      <td>101_79_ITEM_NAME_MODEL_NUMBER_MISMATCH_2018-01...</td>\n",
       "      <td>3GDF5H3EXKXTKWJCU4G88D05Y0852S</td>\n",
       "      <td>2018-01-30 16:14:57+05:30</td>\n",
       "    </tr>\n",
       "    <tr>\n",
       "      <th>4</th>\n",
       "      <td>3P458N04Q1QIWOU47IUMFGYXNO52XR</td>\n",
       "      <td>101_107_ITEM_NAME_MODEL_NUMBER_MISMATCH_2018-0...</td>\n",
       "      <td>3GDF5H3EXKXTKWJCU4G88D05Y0852S</td>\n",
       "      <td>2018-01-30 16:14:57+05:30</td>\n",
       "    </tr>\n",
       "  </tbody>\n",
       "</table>\n",
       "</div>"
      ],
      "text/plain": [
       "                            HitId  \\\n",
       "0  3CO05SML7VER3I5EJWKG7AJUP9ZR0Z   \n",
       "1  3T5ZXGO9DEXOT2W4AB888JCBBUGQZP   \n",
       "2  3O4VWC1GEWF6MMLYUETQ7HVAI4PJ3U   \n",
       "3  3HXK2V1N4KO7A2ZEI8UIRUY2KY8G2C   \n",
       "4  3P458N04Q1QIWOU47IUMFGYXNO52XR   \n",
       "\n",
       "                                          Annotation  \\\n",
       "0  101_421_ITEM_NAME_MODEL_NUMBER_MISMATCH_2018-0...   \n",
       "1  101_421_ITEM_NAME_MODEL_NUMBER_MISMATCH_2018-0...   \n",
       "2  101_60_ITEM_NAME_MODEL_NUMBER_MISMATCH_2018-01...   \n",
       "3  101_79_ITEM_NAME_MODEL_NUMBER_MISMATCH_2018-01...   \n",
       "4  101_107_ITEM_NAME_MODEL_NUMBER_MISMATCH_2018-0...   \n",
       "\n",
       "                        HItTypeID               CreationDate  \n",
       "0  3GDF5H3EXKXTKWJCU4G88D05Y0852S  2018-01-30 16:14:58+05:30  \n",
       "1  3GDF5H3EXKXTKWJCU4G88D05Y0852S  2018-01-30 16:14:58+05:30  \n",
       "2  3GDF5H3EXKXTKWJCU4G88D05Y0852S  2018-01-30 16:14:58+05:30  \n",
       "3  3GDF5H3EXKXTKWJCU4G88D05Y0852S  2018-01-30 16:14:57+05:30  \n",
       "4  3GDF5H3EXKXTKWJCU4G88D05Y0852S  2018-01-30 16:14:57+05:30  "
      ]
     },
     "execution_count": 24,
     "metadata": {},
     "output_type": "execute_result"
    }
   ],
   "source": [
    "data.head()"
   ]
  },
  {
   "cell_type": "code",
   "execution_count": 25,
   "metadata": {},
   "outputs": [],
   "source": [
    "#sns.countplot(x=\"Requester Annotation\", data=data, palette=\"Greens_d\");"
   ]
  },
  {
   "cell_type": "code",
   "execution_count": 26,
   "metadata": {},
   "outputs": [],
   "source": [
    "count = data['Annotation'].value_counts()"
   ]
  },
  {
   "cell_type": "code",
   "execution_count": 6,
   "metadata": {},
   "outputs": [
    {
     "data": {
      "text/plain": [
       "101_421_ITEM_NAME_MODEL_NUMBER_MISMATCH_2018-01-22-18~2b2e4e76-f871-4e48-823b-166052eea54e    3\n",
       "101_328_ITEM_NAME_MODEL_NUMBER_MISMATCH_2018-01-22-18~c5638dec-0590-49af-b484-d4f8b3be3d02    3\n",
       "101_199_ITEM_NAME_MODEL_NUMBER_MISMATCH_2018-01-22-18~2f4b958e-0587-4a9b-9437-d3dc41eebbca    3\n",
       "101_86_ITEM_NAME_MODEL_NUMBER_MISMATCH_2018-01-22-18~cbeae40d-ffae-4357-8714-33a6a37c4e79     3\n",
       "101_23_ITEM_NAME_MODEL_NUMBER_MISMATCH_2018-01-22-18~af0434fb-b0a1-41b0-814e-8d6f58f97983     3\n",
       "Name: Requester Annotation, dtype: int64"
      ]
     },
     "execution_count": 6,
     "metadata": {},
     "output_type": "execute_result"
    }
   ],
   "source": [
    "count.head()"
   ]
  },
  {
   "cell_type": "code",
   "execution_count": 27,
   "metadata": {
    "collapsed": true
   },
   "outputs": [],
   "source": [
    "count = count.reset_index()"
   ]
  },
  {
   "cell_type": "code",
   "execution_count": 28,
   "metadata": {},
   "outputs": [
    {
     "data": {
      "text/html": [
       "<div>\n",
       "<style>\n",
       "    .dataframe thead tr:only-child th {\n",
       "        text-align: right;\n",
       "    }\n",
       "\n",
       "    .dataframe thead th {\n",
       "        text-align: left;\n",
       "    }\n",
       "\n",
       "    .dataframe tbody tr th {\n",
       "        vertical-align: top;\n",
       "    }\n",
       "</style>\n",
       "<table border=\"1\" class=\"dataframe\">\n",
       "  <thead>\n",
       "    <tr style=\"text-align: right;\">\n",
       "      <th></th>\n",
       "      <th>index</th>\n",
       "      <th>Annotation</th>\n",
       "    </tr>\n",
       "  </thead>\n",
       "  <tbody>\n",
       "    <tr>\n",
       "      <th>0</th>\n",
       "      <td>101_201_ITEM_NAME_MODEL_NUMBER_MISMATCH_2017-1...</td>\n",
       "      <td>2</td>\n",
       "    </tr>\n",
       "    <tr>\n",
       "      <th>1</th>\n",
       "      <td>101_79_ITEM_NAME_MODEL_NUMBER_MISMATCH_2018-01...</td>\n",
       "      <td>1</td>\n",
       "    </tr>\n",
       "    <tr>\n",
       "      <th>2</th>\n",
       "      <td>101_200_ITEM_NAME_MODEL_NUMBER_MISMATCH_2018-0...</td>\n",
       "      <td>1</td>\n",
       "    </tr>\n",
       "    <tr>\n",
       "      <th>3</th>\n",
       "      <td>101_23_ITEM_NAME_MODEL_NUMBER_MISMATCH_2018-01...</td>\n",
       "      <td>1</td>\n",
       "    </tr>\n",
       "    <tr>\n",
       "      <th>4</th>\n",
       "      <td>101_263_ITEM_NAME_MODEL_NUMBER_MISMATCH_2018-0...</td>\n",
       "      <td>1</td>\n",
       "    </tr>\n",
       "  </tbody>\n",
       "</table>\n",
       "</div>"
      ],
      "text/plain": [
       "                                               index  Annotation\n",
       "0  101_201_ITEM_NAME_MODEL_NUMBER_MISMATCH_2017-1...           2\n",
       "1  101_79_ITEM_NAME_MODEL_NUMBER_MISMATCH_2018-01...           1\n",
       "2  101_200_ITEM_NAME_MODEL_NUMBER_MISMATCH_2018-0...           1\n",
       "3  101_23_ITEM_NAME_MODEL_NUMBER_MISMATCH_2018-01...           1\n",
       "4  101_263_ITEM_NAME_MODEL_NUMBER_MISMATCH_2018-0...           1"
      ]
     },
     "execution_count": 28,
     "metadata": {},
     "output_type": "execute_result"
    }
   ],
   "source": [
    "count.head()"
   ]
  },
  {
   "cell_type": "code",
   "execution_count": 29,
   "metadata": {
    "collapsed": true
   },
   "outputs": [],
   "source": [
    "def extractDate(x):\n",
    "    ans = x.split('~')\n",
    "    return ans[0][-13:-3]"
   ]
  },
  {
   "cell_type": "code",
   "execution_count": 30,
   "metadata": {
    "collapsed": true
   },
   "outputs": [],
   "source": [
    "count['date'] = count['index'].apply(extractDate)"
   ]
  },
  {
   "cell_type": "code",
   "execution_count": 31,
   "metadata": {},
   "outputs": [
    {
     "data": {
      "text/html": [
       "<div>\n",
       "<style>\n",
       "    .dataframe thead tr:only-child th {\n",
       "        text-align: right;\n",
       "    }\n",
       "\n",
       "    .dataframe thead th {\n",
       "        text-align: left;\n",
       "    }\n",
       "\n",
       "    .dataframe tbody tr th {\n",
       "        vertical-align: top;\n",
       "    }\n",
       "</style>\n",
       "<table border=\"1\" class=\"dataframe\">\n",
       "  <thead>\n",
       "    <tr style=\"text-align: right;\">\n",
       "      <th></th>\n",
       "      <th>index</th>\n",
       "      <th>Annotation</th>\n",
       "      <th>date</th>\n",
       "    </tr>\n",
       "  </thead>\n",
       "  <tbody>\n",
       "    <tr>\n",
       "      <th>0</th>\n",
       "      <td>101_201_ITEM_NAME_MODEL_NUMBER_MISMATCH_2017-1...</td>\n",
       "      <td>2</td>\n",
       "      <td>2017-12-29</td>\n",
       "    </tr>\n",
       "    <tr>\n",
       "      <th>1</th>\n",
       "      <td>101_79_ITEM_NAME_MODEL_NUMBER_MISMATCH_2018-01...</td>\n",
       "      <td>1</td>\n",
       "      <td>2018-01-29</td>\n",
       "    </tr>\n",
       "    <tr>\n",
       "      <th>2</th>\n",
       "      <td>101_200_ITEM_NAME_MODEL_NUMBER_MISMATCH_2018-0...</td>\n",
       "      <td>1</td>\n",
       "      <td>2018-01-28</td>\n",
       "    </tr>\n",
       "    <tr>\n",
       "      <th>3</th>\n",
       "      <td>101_23_ITEM_NAME_MODEL_NUMBER_MISMATCH_2018-01...</td>\n",
       "      <td>1</td>\n",
       "      <td>2018-01-23</td>\n",
       "    </tr>\n",
       "    <tr>\n",
       "      <th>4</th>\n",
       "      <td>101_263_ITEM_NAME_MODEL_NUMBER_MISMATCH_2018-0...</td>\n",
       "      <td>1</td>\n",
       "      <td>2018-01-18</td>\n",
       "    </tr>\n",
       "  </tbody>\n",
       "</table>\n",
       "</div>"
      ],
      "text/plain": [
       "                                               index  Annotation        date\n",
       "0  101_201_ITEM_NAME_MODEL_NUMBER_MISMATCH_2017-1...           2  2017-12-29\n",
       "1  101_79_ITEM_NAME_MODEL_NUMBER_MISMATCH_2018-01...           1  2018-01-29\n",
       "2  101_200_ITEM_NAME_MODEL_NUMBER_MISMATCH_2018-0...           1  2018-01-28\n",
       "3  101_23_ITEM_NAME_MODEL_NUMBER_MISMATCH_2018-01...           1  2018-01-23\n",
       "4  101_263_ITEM_NAME_MODEL_NUMBER_MISMATCH_2018-0...           1  2018-01-18"
      ]
     },
     "execution_count": 31,
     "metadata": {},
     "output_type": "execute_result"
    }
   ],
   "source": [
    "count.head()"
   ]
  },
  {
   "cell_type": "code",
   "execution_count": 32,
   "metadata": {
    "collapsed": true
   },
   "outputs": [],
   "source": [
    "count['date'] = pd.to_datetime(count['date']) "
   ]
  },
  {
   "cell_type": "code",
   "execution_count": 38,
   "metadata": {},
   "outputs": [],
   "source": [
    "count['creationDate'] = data['CreationDate'].apply(lambda x: x[:10])"
   ]
  },
  {
   "cell_type": "code",
   "execution_count": 39,
   "metadata": {},
   "outputs": [
    {
     "data": {
      "text/html": [
       "<div>\n",
       "<style>\n",
       "    .dataframe thead tr:only-child th {\n",
       "        text-align: right;\n",
       "    }\n",
       "\n",
       "    .dataframe thead th {\n",
       "        text-align: left;\n",
       "    }\n",
       "\n",
       "    .dataframe tbody tr th {\n",
       "        vertical-align: top;\n",
       "    }\n",
       "</style>\n",
       "<table border=\"1\" class=\"dataframe\">\n",
       "  <thead>\n",
       "    <tr style=\"text-align: right;\">\n",
       "      <th></th>\n",
       "      <th>index</th>\n",
       "      <th>Annotation</th>\n",
       "      <th>date</th>\n",
       "      <th>creationDate</th>\n",
       "    </tr>\n",
       "  </thead>\n",
       "  <tbody>\n",
       "    <tr>\n",
       "      <th>0</th>\n",
       "      <td>101_201_ITEM_NAME_MODEL_NUMBER_MISMATCH_2017-1...</td>\n",
       "      <td>2</td>\n",
       "      <td>2017-12-29</td>\n",
       "      <td>2018-01-30</td>\n",
       "    </tr>\n",
       "    <tr>\n",
       "      <th>1</th>\n",
       "      <td>101_79_ITEM_NAME_MODEL_NUMBER_MISMATCH_2018-01...</td>\n",
       "      <td>1</td>\n",
       "      <td>2018-01-29</td>\n",
       "      <td>2018-01-30</td>\n",
       "    </tr>\n",
       "    <tr>\n",
       "      <th>2</th>\n",
       "      <td>101_200_ITEM_NAME_MODEL_NUMBER_MISMATCH_2018-0...</td>\n",
       "      <td>1</td>\n",
       "      <td>2018-01-28</td>\n",
       "      <td>2018-01-30</td>\n",
       "    </tr>\n",
       "    <tr>\n",
       "      <th>3</th>\n",
       "      <td>101_23_ITEM_NAME_MODEL_NUMBER_MISMATCH_2018-01...</td>\n",
       "      <td>1</td>\n",
       "      <td>2018-01-23</td>\n",
       "      <td>2018-01-30</td>\n",
       "    </tr>\n",
       "    <tr>\n",
       "      <th>4</th>\n",
       "      <td>101_263_ITEM_NAME_MODEL_NUMBER_MISMATCH_2018-0...</td>\n",
       "      <td>1</td>\n",
       "      <td>2018-01-18</td>\n",
       "      <td>2018-01-30</td>\n",
       "    </tr>\n",
       "  </tbody>\n",
       "</table>\n",
       "</div>"
      ],
      "text/plain": [
       "                                               index  Annotation       date  \\\n",
       "0  101_201_ITEM_NAME_MODEL_NUMBER_MISMATCH_2017-1...           2 2017-12-29   \n",
       "1  101_79_ITEM_NAME_MODEL_NUMBER_MISMATCH_2018-01...           1 2018-01-29   \n",
       "2  101_200_ITEM_NAME_MODEL_NUMBER_MISMATCH_2018-0...           1 2018-01-28   \n",
       "3  101_23_ITEM_NAME_MODEL_NUMBER_MISMATCH_2018-01...           1 2018-01-23   \n",
       "4  101_263_ITEM_NAME_MODEL_NUMBER_MISMATCH_2018-0...           1 2018-01-18   \n",
       "\n",
       "  creationDate  \n",
       "0   2018-01-30  \n",
       "1   2018-01-30  \n",
       "2   2018-01-30  \n",
       "3   2018-01-30  \n",
       "4   2018-01-30  "
      ]
     },
     "execution_count": 39,
     "metadata": {},
     "output_type": "execute_result"
    }
   ],
   "source": [
    "count.head()"
   ]
  },
  {
   "cell_type": "code",
   "execution_count": 40,
   "metadata": {},
   "outputs": [
    {
     "data": {
      "text/plain": [
       "(array([0, 1]), <a list of 2 Text xticklabel objects>)"
      ]
     },
     "execution_count": 40,
     "metadata": {},
     "output_type": "execute_result"
    },
    {
     "data": {
      "image/png": "[encoded data removed]",
      "text/plain": [
       "<matplotlib.figure.Figure at 0x1173ec0b8>"
      ]
     },
     "metadata": {},
     "output_type": "display_data"
    }
   ],
   "source": [
    "g = sns.countplot(x=\"creationDate\", data=count, palette=\"Greens_d\");\n",
    "\n",
    "plt.xticks(rotation=45)"
   ]
  },
  {
   "cell_type": "code",
   "execution_count": 43,
   "metadata": {},
   "outputs": [
    {
     "data": {
      "text/plain": [
       "884"
      ]
     },
     "execution_count": 43,
     "metadata": {},
     "output_type": "execute_result"
    }
   ],
   "source": [
    "count.size"
   ]
  },
  {
   "cell_type": "code",
   "execution_count": 45,
   "metadata": {},
   "outputs": [
    {
     "data": {
      "text/plain": [
       "888"
      ]
     },
     "execution_count": 45,
     "metadata": {},
     "output_type": "execute_result"
    }
   ],
   "source": [
    "data.size"
   ]
  },
  {
   "cell_type": "code",
   "execution_count": null,
   "metadata": {
    "collapsed": true
   },
   "outputs": [],
   "source": []
  },
  {
   "cell_type": "code",
   "execution_count": null,
   "metadata": {
    "collapsed": true
   },
   "outputs": [],
   "source": []
  },
  {
   "cell_type": "code",
   "execution_count": 12,
   "metadata": {
    "collapsed": true
   },
   "outputs": [],
   "source": [
    "count.to_csv(\"count.csv\")"
   ]
  },
  {
   "cell_type": "code",
   "execution_count": 36,
   "metadata": {
    "collapsed": true
   },
   "outputs": [],
   "source": [
    "count_2 = count[count['annotation']>=2]"
   ]
  },
  {
   "cell_type": "code",
   "execution_count": 37,
   "metadata": {},
   "outputs": [
    {
     "data": {
      "text/html": [
       "<div>\n",
       "<style>\n",
       "    .dataframe thead tr:only-child th {\n",
       "        text-align: right;\n",
       "    }\n",
       "\n",
       "    .dataframe thead th {\n",
       "        text-align: left;\n",
       "    }\n",
       "\n",
       "    .dataframe tbody tr th {\n",
       "        vertical-align: top;\n",
       "    }\n",
       "</style>\n",
       "<table border=\"1\" class=\"dataframe\">\n",
       "  <thead>\n",
       "    <tr style=\"text-align: right;\">\n",
       "      <th></th>\n",
       "      <th>index</th>\n",
       "      <th>annotation</th>\n",
       "      <th>date</th>\n",
       "    </tr>\n",
       "  </thead>\n",
       "  <tbody>\n",
       "    <tr>\n",
       "      <th>0</th>\n",
       "      <td>101_107_ITEM_NAME_MODEL_NUMBER_MISMATCH_2018-0...</td>\n",
       "      <td>3</td>\n",
       "      <td>2018-01-19</td>\n",
       "    </tr>\n",
       "    <tr>\n",
       "      <th>1</th>\n",
       "      <td>101_107_ITEM_NAME_MODEL_NUMBER_MISMATCH_2018-0...</td>\n",
       "      <td>2</td>\n",
       "      <td>2018-01-17</td>\n",
       "    </tr>\n",
       "    <tr>\n",
       "      <th>2</th>\n",
       "      <td>101_147_ITEM_NAME_MODEL_NUMBER_MISMATCH_2018-0...</td>\n",
       "      <td>2</td>\n",
       "      <td>2018-01-18</td>\n",
       "    </tr>\n",
       "    <tr>\n",
       "      <th>3</th>\n",
       "      <td>101_60_ITEM_NAME_MODEL_NUMBER_MISMATCH_2018-01...</td>\n",
       "      <td>2</td>\n",
       "      <td>2018-01-20</td>\n",
       "    </tr>\n",
       "    <tr>\n",
       "      <th>4</th>\n",
       "      <td>101_23_ITEM_NAME_MODEL_NUMBER_MISMATCH_2018-01...</td>\n",
       "      <td>2</td>\n",
       "      <td>2018-01-16</td>\n",
       "    </tr>\n",
       "  </tbody>\n",
       "</table>\n",
       "</div>"
      ],
      "text/plain": [
       "                                               index  annotation        date\n",
       "0  101_107_ITEM_NAME_MODEL_NUMBER_MISMATCH_2018-0...           3  2018-01-19\n",
       "1  101_107_ITEM_NAME_MODEL_NUMBER_MISMATCH_2018-0...           2  2018-01-17\n",
       "2  101_147_ITEM_NAME_MODEL_NUMBER_MISMATCH_2018-0...           2  2018-01-18\n",
       "3  101_60_ITEM_NAME_MODEL_NUMBER_MISMATCH_2018-01...           2  2018-01-20\n",
       "4  101_23_ITEM_NAME_MODEL_NUMBER_MISMATCH_2018-01...           2  2018-01-16"
      ]
     },
     "execution_count": 37,
     "metadata": {},
     "output_type": "execute_result"
    }
   ],
   "source": [
    "count_2.head()"
   ]
  },
  {
   "cell_type": "code",
   "execution_count": 38,
   "metadata": {
    "collapsed": true
   },
   "outputs": [],
   "source": [
    "count_2.to_csv(\"count_2.csv\")"
   ]
  },
  {
   "cell_type": "code",
   "execution_count": 39,
   "metadata": {
    "collapsed": true
   },
   "outputs": [],
   "source": [
    "count_1 = count[count['annotation']==1]"
   ]
  },
  {
   "cell_type": "code",
   "execution_count": 40,
   "metadata": {
    "collapsed": true
   },
   "outputs": [],
   "source": [
    "count_1.to_csv(\"count_1.csv\")"
   ]
  },
  {
   "cell_type": "code",
   "execution_count": 41,
   "metadata": {},
   "outputs": [
    {
     "data": {
      "text/plain": [
       "2018-01-19    581\n",
       "2018-01-18    406\n",
       "2018-01-16    325\n",
       "2018-01-20    309\n",
       "2018-01-17    273\n",
       "2018-01-21      6\n",
       "Name: date, dtype: int64"
      ]
     },
     "execution_count": 41,
     "metadata": {},
     "output_type": "execute_result"
    }
   ],
   "source": [
    "count_2['date'].value_counts()"
   ]
  },
  {
   "cell_type": "code",
   "execution_count": 43,
   "metadata": {},
   "outputs": [
    {
     "data": {
      "text/plain": [
       "2018-01-20    189\n",
       "2017-12-29     78\n",
       "2017-12-31     64\n",
       "2018-01-16     53\n",
       "2018-01-21     34\n",
       "2018-01-19     28\n",
       "2018-01-18      2\n",
       "2018-01-17      1\n",
       "Name: date, dtype: int64"
      ]
     },
     "execution_count": 43,
     "metadata": {},
     "output_type": "execute_result"
    }
   ],
   "source": [
    "count_1['date'].value_counts()"
   ]
  },
  {
   "cell_type": "code",
   "execution_count": null,
   "metadata": {
    "collapsed": true
   },
   "outputs": [],
   "source": []
  }
 ],
 "metadata": {
  "kernelspec": {
   "display_name": "Python 3",
   "language": "python",
   "name": "python3"
  },
  "language_info": {
   "codemirror_mode": {
    "name": "ipython",
    "version": 3
   },
   "file_extension": ".py",
   "mimetype": "text/x-python",
   "name": "python",
   "nbconvert_exporter": "python",
   "pygments_lexer": "ipython3",
   "version": "3.6.3"
  }
 },
 "nbformat": 4,
 "nbformat_minor": 1
}
